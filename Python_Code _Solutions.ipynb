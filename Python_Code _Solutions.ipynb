{
 "cells": [
  {
   "cell_type": "markdown",
   "metadata": {},
   "source": [
    "# INTRODUCTION"
   ]
  },
  {
   "cell_type": "markdown",
   "metadata": {},
   "source": [
    "# Say \"Hello, World!\" With Python"
   ]
  },
  {
   "cell_type": "code",
   "execution_count": null,
   "metadata": {
    "collapsed": true
   },
   "outputs": [],
   "source": [
    "if __name__ == '__main__':\n",
    "    print (\"Hello, World!\")"
   ]
  },
  {
   "cell_type": "markdown",
   "metadata": {},
   "source": [
    "# Python If-Else"
   ]
  },
  {
   "cell_type": "code",
   "execution_count": null,
   "metadata": {
    "collapsed": true
   },
   "outputs": [],
   "source": [
    "if __name__ == '__main__':\n",
    "    n = int(input().strip())\n",
    "    if n%2 != 0:\n",
    "        print(\"Weird\")\n",
    "    else:\n",
    "        if n>=2 and n<=5:\n",
    "            print(\"Not Weird\")\n",
    "        elif n>=6 and n<=20:\n",
    "            print(\"Weird\")\n",
    "        elif n>20:\n",
    "            print(\"Not Weird\")"
   ]
  },
  {
   "cell_type": "markdown",
   "metadata": {},
   "source": [
    "# Arithmetic Operators\n"
   ]
  },
  {
   "cell_type": "code",
   "execution_count": null,
   "metadata": {
    "collapsed": true
   },
   "outputs": [],
   "source": [
    "if __name__ == '__main__':\n",
    "    a = int(input())\n",
    "    b = int(input())\n",
    "    somma = a+b\n",
    "    diff = a-b\n",
    "    prod = a*b\n",
    "    print(somma)\n",
    "    print(diff)\n",
    "    print(prod)"
   ]
  },
  {
   "cell_type": "markdown",
   "metadata": {},
   "source": [
    "# Python: Division"
   ]
  },
  {
   "cell_type": "code",
   "execution_count": null,
   "metadata": {
    "collapsed": true
   },
   "outputs": [],
   "source": [
    "if __name__ == '__main__':\n",
    "    a = int(input())\n",
    "    b = int(input())\n",
    "    print(a//b)\n",
    "    print(a/b)"
   ]
  },
  {
   "cell_type": "markdown",
   "metadata": {},
   "source": [
    "# Loops"
   ]
  },
  {
   "cell_type": "code",
   "execution_count": null,
   "metadata": {
    "collapsed": true
   },
   "outputs": [],
   "source": [
    "if __name__ == '__main__':\n",
    "    n = int(input())\n",
    "    i=0\n",
    "    while i < n:\n",
    "        print(i**2)\n",
    "        i+=1"
   ]
  },
  {
   "cell_type": "markdown",
   "metadata": {},
   "source": [
    "# Write a function"
   ]
  },
  {
   "cell_type": "code",
   "execution_count": null,
   "metadata": {
    "collapsed": true
   },
   "outputs": [],
   "source": [
    "def is_leap(year):\n",
    "    leap = False\n",
    "    if year%4==0:\n",
    "        leap = True\n",
    "        if year%100==0:\n",
    "            leap = False\n",
    "            if year%400==0:\n",
    "                leap = True\n",
    "    return leap"
   ]
  },
  {
   "cell_type": "markdown",
   "metadata": {},
   "source": [
    "# Print Function"
   ]
  },
  {
   "cell_type": "code",
   "execution_count": null,
   "metadata": {
    "collapsed": true
   },
   "outputs": [],
   "source": [
    "if __name__ == '__main__':\n",
    "    n = int(raw_input())\n",
    "    s=\"\"\n",
    "    for i in range(1,n+1):\n",
    "        s+=str(i)\n",
    "    print(s)"
   ]
  },
  {
   "cell_type": "markdown",
   "metadata": {},
   "source": [
    "# DATA TYPES"
   ]
  },
  {
   "cell_type": "markdown",
   "metadata": {},
   "source": [
    "# List Comprehensions"
   ]
  },
  {
   "cell_type": "code",
   "execution_count": null,
   "metadata": {
    "collapsed": true
   },
   "outputs": [],
   "source": [
    "if __name__ == '__main__':\n",
    "    x = int(input())\n",
    "    y = int(input())\n",
    "    z = int(input())\n",
    "    n = int(input())\n",
    "    l=[[i,j,k] for i in range(x+1) for j in range(y+1) for k in range(z+1) if i+j+k != n]\n",
    "    print(l)"
   ]
  },
  {
   "cell_type": "markdown",
   "metadata": {},
   "source": [
    "# Find the Runner-Up Score!"
   ]
  },
  {
   "cell_type": "code",
   "execution_count": null,
   "metadata": {
    "collapsed": true
   },
   "outputs": [],
   "source": [
    "if __name__ == '__main__':\n",
    "    n = int(input())\n",
    "    arr = map(int, input().split())\n",
    "    arr.sort(reverse=True)\n",
    "    first=arr[0]\n",
    "    for i in range(1,n):\n",
    "        if arr[i] != first:\n",
    "            print(arr[i])\n",
    "            break"
   ]
  },
  {
   "cell_type": "markdown",
   "metadata": {},
   "source": [
    "# Nested Lists"
   ]
  },
  {
   "cell_type": "code",
   "execution_count": null,
   "metadata": {
    "collapsed": true
   },
   "outputs": [],
   "source": [
    "if __name__ == '__main__':\n",
    "    nested=[]\n",
    "    tscore=[]\n",
    "    for _ in range(int(input())):\n",
    "        name = input()\n",
    "        score = float(input())\n",
    "        tscore.append(score)\n",
    "        nested.append([name,score])\n",
    "    tscore.sort()\n",
    "    first=tscore[0]\n",
    "    second=0\n",
    "    for i in range(1,len(tscore)):\n",
    "        if tscore[i] != first:\n",
    "            second=tscore[i]\n",
    "            break\n",
    "    res=[]\n",
    "    for n in nested:\n",
    "        if n[1]==second:\n",
    "            res.append(n[0])\n",
    "    res.sort()\n",
    "    for el in res:\n",
    "        print(el)"
   ]
  },
  {
   "cell_type": "markdown",
   "metadata": {},
   "source": [
    "# Finding the percentage"
   ]
  },
  {
   "cell_type": "code",
   "execution_count": null,
   "metadata": {
    "collapsed": true
   },
   "outputs": [],
   "source": [
    "if __name__ == '__main__':\n",
    "    n = int(input())\n",
    "    student_marks = {}\n",
    "    for _ in range(n):\n",
    "        line = input().split()\n",
    "        name, scores = line[0], line[1:]\n",
    "        scores = map(float, scores)\n",
    "        student_marks[name] = scores\n",
    "    query_name = input()\n",
    "    values= student_marks[query_name]\n",
    "    somma=0\n",
    "    for el in values:\n",
    "        somma+=el\n",
    "    print(\"{:.2f}\".format(somma/len(values)))"
   ]
  },
  {
   "cell_type": "markdown",
   "metadata": {},
   "source": [
    "# Lists"
   ]
  },
  {
   "cell_type": "code",
   "execution_count": null,
   "metadata": {
    "collapsed": true
   },
   "outputs": [],
   "source": [
    "if __name__ == '__main__':\n",
    "    N = int(input())\n",
    "    l=[]\n",
    "    for i in range(N):\n",
    "        string= input().split(\" \")\n",
    "        if string[0] == \"insert\":\n",
    "            l.insert(int(string[1]),int(string[2]))\n",
    "        if string[0] == \"print\":\n",
    "            print(l)\n",
    "        if string[0] == \"remove\":\n",
    "            l.remove(int(string[1]))\n",
    "        if string[0] == \"append\":\n",
    "            l.append(int(string[1]))\n",
    "        if string[0] == \"sort\":\n",
    "            l.sort()\n",
    "        if string[0] == \"pop\":\n",
    "            l.pop()\n",
    "        if string[0] == \"reverse\":\n",
    "            l.reverse()"
   ]
  },
  {
   "cell_type": "markdown",
   "metadata": {},
   "source": [
    "# Tuples"
   ]
  },
  {
   "cell_type": "code",
   "execution_count": null,
   "metadata": {
    "collapsed": true
   },
   "outputs": [],
   "source": [
    "if __name__ == '__main__':\n",
    "    n = int(input())\n",
    "    integer_list = map(int, input().split())\n",
    "    t= tuple(integer_list)\n",
    "    print(hash(t))"
   ]
  },
  {
   "cell_type": "markdown",
   "metadata": {},
   "source": [
    "# STRINGS"
   ]
  },
  {
   "cell_type": "markdown",
   "metadata": {},
   "source": [
    "# sWAP cASE"
   ]
  },
  {
   "cell_type": "code",
   "execution_count": null,
   "metadata": {
    "collapsed": true
   },
   "outputs": [],
   "source": [
    "def swap_case(s):\n",
    "    newS=\"\"\n",
    "    for ch in s:\n",
    "        if ch.islower():\n",
    "            ch=ch.upper()\n",
    "        elif ch.isupper():\n",
    "            ch=ch.lower()\n",
    "        newS+=ch\n",
    "    return newS"
   ]
  },
  {
   "cell_type": "markdown",
   "metadata": {},
   "source": [
    "# String Split and Join"
   ]
  },
  {
   "cell_type": "code",
   "execution_count": null,
   "metadata": {
    "collapsed": true
   },
   "outputs": [],
   "source": [
    "def split_and_join(line):\n",
    "    words= line.split(\" \")\n",
    "    return \"-\".join(words)"
   ]
  },
  {
   "cell_type": "markdown",
   "metadata": {},
   "source": [
    "# What's Your Name?"
   ]
  },
  {
   "cell_type": "code",
   "execution_count": null,
   "metadata": {
    "collapsed": true
   },
   "outputs": [],
   "source": [
    "def print_full_name(first, last):\n",
    "    res=\"Hello \"+first+\" \"+last+\"! You just delved into python.\"\n",
    "    print(res)\n",
    "    return res"
   ]
  },
  {
   "cell_type": "markdown",
   "metadata": {},
   "source": [
    "# Mutations"
   ]
  },
  {
   "cell_type": "code",
   "execution_count": null,
   "metadata": {
    "collapsed": true
   },
   "outputs": [],
   "source": [
    "def mutate_string(string, position, character):\n",
    "    string= string[:position] + character + string[position+1:]\n",
    "    return string"
   ]
  },
  {
   "cell_type": "markdown",
   "metadata": {},
   "source": [
    "# Find a string"
   ]
  },
  {
   "cell_type": "code",
   "execution_count": null,
   "metadata": {
    "collapsed": true
   },
   "outputs": [],
   "source": [
    "def count_substring(string, sub_string):\n",
    "    count=0\n",
    "    while string.find(sub_string) !=-1:\n",
    "        count+=1\n",
    "        i=string.find(sub_string)\n",
    "        string=string[i+1:]\n",
    "    return count"
   ]
  },
  {
   "cell_type": "markdown",
   "metadata": {},
   "source": [
    "# String Validators"
   ]
  },
  {
   "cell_type": "code",
   "execution_count": null,
   "metadata": {
    "collapsed": true
   },
   "outputs": [],
   "source": [
    "if __name__ == '__main__':\n",
    "    s = input()\n",
    "    alphan=False\n",
    "    alphab=False\n",
    "    digits=False\n",
    "    low=False\n",
    "    up=False\n",
    "    for i in range(len(s)):\n",
    "        if s[i].isalnum():\n",
    "            alphan=True\n",
    "        if s[i].isalpha():\n",
    "            alphab=True\n",
    "        if s[i].isdigit():\n",
    "            digits=True\n",
    "        if s[i].islower():\n",
    "            low=True                    \n",
    "        if s[i].isupper():\n",
    "            up=True\n",
    "    print(alphan)\n",
    "    print(alphab)\n",
    "    print(digits)\n",
    "    print(low)\n",
    "    print(up)"
   ]
  },
  {
   "cell_type": "markdown",
   "metadata": {},
   "source": [
    "# Text Alignment"
   ]
  },
  {
   "cell_type": "code",
   "execution_count": null,
   "metadata": {
    "collapsed": true
   },
   "outputs": [],
   "source": [
    "#Replace all ______ with rjust, ljust or center. \n",
    "\n",
    "thickness = int(input()) #This must be an odd number\n",
    "c = 'H'\n",
    "\n",
    "#Top Cone\n",
    "for i in range(thickness):\n",
    "    print((c*i).rjust(thickness-1)+c+(c*i).ljust(thickness-1))\n",
    "\n",
    "#Top Pillars\n",
    "for i in range(thickness+1):\n",
    "    print((c*thickness).center(thickness*2)+(c*thickness).center(thickness*6))\n",
    "\n",
    "#Middle Belt\n",
    "for i in range((thickness+1)//2):\n",
    "    print((c*thickness*5).center(thickness*6))    \n",
    "\n",
    "#Bottom Pillars\n",
    "for i in range(thickness+1):\n",
    "    print((c*thickness).center(thickness*2)+(c*thickness).center(thickness*6))    \n",
    "\n",
    "#Bottom Cone\n",
    "for i in range(thickness):\n",
    "    print(((c*(thickness-i-1)).rjust(thickness)+c+(c*(thickness-i-1)).ljust(thickness)).rjust(thickness*6))"
   ]
  },
  {
   "cell_type": "markdown",
   "metadata": {},
   "source": [
    "# Text Wrap"
   ]
  },
  {
   "cell_type": "code",
   "execution_count": null,
   "metadata": {
    "collapsed": true
   },
   "outputs": [],
   "source": [
    "def wrap(string, max_width):\n",
    "    f=textwrap.wrap(text=string,width=max_width)\n",
    "    return \"\\n\".join(f)"
   ]
  },
  {
   "cell_type": "markdown",
   "metadata": {},
   "source": [
    "# Designer Door Mat"
   ]
  },
  {
   "cell_type": "code",
   "execution_count": null,
   "metadata": {
    "collapsed": true
   },
   "outputs": [],
   "source": [
    "import math\n",
    "\n",
    "nm=list(map(int,input().split(\" \")))\n",
    "n=nm[0]\n",
    "m=nm[1]\n",
    "rip=1\n",
    "for i in range(1,math.ceil(n/2)):\n",
    "    print((\".|.\"*rip).center(m,\"-\"))\n",
    "    rip+=2\n",
    "print(\"WELCOME\".center(m,\"-\"))\n",
    "rip-=2\n",
    "for i in range(1,math.ceil(n/2)):\n",
    "    print((\".|.\"*rip).center(m,\"-\"))\n",
    "    rip-=2"
   ]
  },
  {
   "cell_type": "markdown",
   "metadata": {},
   "source": [
    "# String Formatting"
   ]
  },
  {
   "cell_type": "code",
   "execution_count": null,
   "metadata": {
    "collapsed": true
   },
   "outputs": [],
   "source": [
    "def print_formatted(number):\n",
    "    space=len(\"{0:b}\".format(number))\n",
    "    for i in range(1,number+1):\n",
    "        decimal=\"{0:{width}d}\".format(i,width=space)\n",
    "        octal=\"{0:{width}o}\".format(i, width=space)\n",
    "        hexa=\"{0:{width}X}\".format(i, width=space)\n",
    "        binary=\"{0:{width}b}\".format(i, width=space)\n",
    "        print(decimal,octal,hexa,binary)"
   ]
  },
  {
   "cell_type": "markdown",
   "metadata": {},
   "source": [
    "# Alphabet Rangoli"
   ]
  },
  {
   "cell_type": "code",
   "execution_count": null,
   "metadata": {
    "collapsed": true
   },
   "outputs": [],
   "source": [
    "def print_rangoli(size):\n",
    "    alpha=['a', 'b', 'c', 'd', 'e', 'f', 'g', 'h', 'i', 'j', 'k', 'l', 'm', 'n', 'o',               'p', 'q', 'r', 's', 't', 'u', 'v', 'w', 'x', 'y', 'z']\n",
    "    lett=alpha[:size]\n",
    "    for i in range(size):\n",
    "        sel=lett[size-i-1:]\n",
    "        sel_mirr=sel[1:]\n",
    "        sel_mirr.reverse()\n",
    "        sel = sel_mirr+sel\n",
    "        s=\"-\".join(sel)\n",
    "        print(s.center((size*2-1)*2-1,\"-\"))\n",
    "    for i in range(size-2,-1,-1):\n",
    "        sel=lett[size-i-1:]\n",
    "        sel_mirr=sel[1:]\n",
    "        sel_mirr.reverse()\n",
    "        sel = sel_mirr+sel\n",
    "        s=\"-\".join(sel)\n",
    "        print(s.center((size*2-1)*2-1,\"-\"))"
   ]
  },
  {
   "cell_type": "markdown",
   "metadata": {},
   "source": [
    "# Capitalize!"
   ]
  },
  {
   "cell_type": "code",
   "execution_count": null,
   "metadata": {
    "collapsed": true
   },
   "outputs": [],
   "source": [
    "def solve(s):\n",
    "    w=s.split(\" \")\n",
    "    for i in range(len(w)):\n",
    "        w[i]= w[i].capitalize()\n",
    "    return \" \".join(w)"
   ]
  },
  {
   "cell_type": "markdown",
   "metadata": {},
   "source": [
    "# The Minion Game"
   ]
  },
  {
   "cell_type": "code",
   "execution_count": null,
   "metadata": {
    "collapsed": true
   },
   "outputs": [],
   "source": [
    "def minion_game(string):\n",
    "    s=0\n",
    "    k=0\n",
    "    for i in range(len(string)):\n",
    "        if string[i] in [\"A\",\"E\",\"I\",\"O\",\"U\"]:\n",
    "            k+=len(string)-i\n",
    "        else:\n",
    "            s+=len(string)-i\n",
    "    if s>k:\n",
    "        print(\"Stuart \"+str(s))\n",
    "    elif k>s:\n",
    "        print(\"Kevin \"+str(k))\n",
    "    else:\n",
    "        print(\"Draw\")"
   ]
  },
  {
   "cell_type": "markdown",
   "metadata": {},
   "source": [
    "# Merge the Tools!"
   ]
  },
  {
   "cell_type": "code",
   "execution_count": null,
   "metadata": {
    "collapsed": true
   },
   "outputs": [],
   "source": [
    "import textwrap\n",
    "\n",
    "def merge_the_tools(string, k):\n",
    "    substrings=textwrap.wrap(string,k)\n",
    "    for el in substrings:\n",
    "        s=[]\n",
    "        for char in el:\n",
    "            if char not in s:\n",
    "                s.append(char)\n",
    "        print(\"\".join(s))"
   ]
  },
  {
   "cell_type": "markdown",
   "metadata": {},
   "source": [
    "# SETS"
   ]
  },
  {
   "cell_type": "markdown",
   "metadata": {},
   "source": [
    "# Introduction to Sets"
   ]
  },
  {
   "cell_type": "code",
   "execution_count": null,
   "metadata": {
    "collapsed": true
   },
   "outputs": [],
   "source": [
    "def average(array):\n",
    "    array = set(array)\n",
    "    av= sum(array)/len(array)\n",
    "    return av"
   ]
  },
  {
   "cell_type": "markdown",
   "metadata": {},
   "source": [
    "# No Idea!"
   ]
  },
  {
   "cell_type": "code",
   "execution_count": null,
   "metadata": {
    "collapsed": true
   },
   "outputs": [],
   "source": [
    "sizes = input()\n",
    "arr = input().split(\" \")\n",
    "a = input().split(\" \")\n",
    "a = set(a)\n",
    "b = input().split(\" \")\n",
    "b = set(b)\n",
    "happ=0\n",
    "for el in arr:\n",
    "    if el in a:\n",
    "        happ+=1\n",
    "    if el in b:\n",
    "        happ-=1\n",
    "print (happ)"
   ]
  },
  {
   "cell_type": "markdown",
   "metadata": {},
   "source": [
    "# Symmetric Difference"
   ]
  },
  {
   "cell_type": "code",
   "execution_count": null,
   "metadata": {
    "collapsed": true
   },
   "outputs": [],
   "source": [
    "sizeA = input()\n",
    "a = input().split(\" \")\n",
    "sizeB = input()\n",
    "b = input().split(\" \")\n",
    "a = set(list(map(int,a)))\n",
    "b = set(list(map(int,b)))\n",
    "diffA = a.difference(b)\n",
    "diffB = b.difference(a)\n",
    "diffA.update(diffB)\n",
    "tot_diff = []\n",
    "for el in diffA:\n",
    "    tot_diff.append(el)\n",
    "tot_diff.sort()\n",
    "for num in tot_diff:\n",
    "    print(num)"
   ]
  },
  {
   "cell_type": "markdown",
   "metadata": {},
   "source": [
    "# Set .add()"
   ]
  },
  {
   "cell_type": "code",
   "execution_count": null,
   "metadata": {
    "collapsed": true
   },
   "outputs": [],
   "source": [
    "size= int(input())\n",
    "i=0\n",
    "s=set()\n",
    "while i<size:\n",
    "    el= input()\n",
    "    s.add(el)\n",
    "    i+=1\n",
    "print(len(s))"
   ]
  },
  {
   "cell_type": "markdown",
   "metadata": {},
   "source": [
    "# Set .discard(), .remove() & .pop()"
   ]
  },
  {
   "cell_type": "code",
   "execution_count": null,
   "metadata": {
    "collapsed": true
   },
   "outputs": [],
   "source": [
    "size = input()\n",
    "s = input().split(\" \")\n",
    "s = list(map(int,s))\n",
    "s.sort(reverse=True)\n",
    "s = set(s)\n",
    "n_com = int(input())\n",
    "i=0\n",
    "while i<n_com:\n",
    "    com = input().split(\" \")\n",
    "    if com[0]== \"pop\":\n",
    "        s.pop()\n",
    "    if com[0]== \"remove\":\n",
    "        if int(com[1]) in s:\n",
    "            s.remove(int(com[1]))\n",
    "    if com[0]== \"discard\":  \n",
    "        s.discard(int(com[1]))\n",
    "    i+=1\n",
    "print(sum(s))"
   ]
  },
  {
   "cell_type": "markdown",
   "metadata": {},
   "source": [
    "# Set .union() Operation"
   ]
  },
  {
   "cell_type": "code",
   "execution_count": null,
   "metadata": {
    "collapsed": true
   },
   "outputs": [],
   "source": [
    "input()\n",
    "eng = input().split(\" \")\n",
    "eng = set(list(map(int,eng)))\n",
    "input()\n",
    "fre = input().split(\" \")\n",
    "fre = set(list(map(int,fre)))\n",
    "uni = eng.union(fre)\n",
    "print(len(uni))"
   ]
  },
  {
   "cell_type": "markdown",
   "metadata": {},
   "source": [
    "# Set .intersection() Operation"
   ]
  },
  {
   "cell_type": "code",
   "execution_count": null,
   "metadata": {
    "collapsed": true
   },
   "outputs": [],
   "source": [
    "input()\n",
    "eng = input().split(\" \")\n",
    "eng = set(list(map(int,eng)))\n",
    "input()\n",
    "fre = input().split(\" \")\n",
    "fre = set(list(map(int,fre)))\n",
    "uni = eng.intersection(fre)\n",
    "print(len(uni))"
   ]
  },
  {
   "cell_type": "markdown",
   "metadata": {},
   "source": [
    "# Set .difference() Operation"
   ]
  },
  {
   "cell_type": "code",
   "execution_count": null,
   "metadata": {
    "collapsed": true
   },
   "outputs": [],
   "source": [
    "input()\n",
    "eng = input().split(\" \")\n",
    "eng = set(list(map(int,eng)))\n",
    "input()\n",
    "fre = input().split(\" \")\n",
    "fre = set(list(map(int,fre)))\n",
    "uni = eng.difference(fre)\n",
    "print(len(uni))"
   ]
  },
  {
   "cell_type": "markdown",
   "metadata": {},
   "source": [
    "# Set .symmetric_difference() Operation"
   ]
  },
  {
   "cell_type": "code",
   "execution_count": null,
   "metadata": {
    "collapsed": true
   },
   "outputs": [],
   "source": [
    "input()\n",
    "eng = input().split(\" \")\n",
    "eng = set(list(map(int,eng)))\n",
    "input()\n",
    "fre = input().split(\" \")\n",
    "fre = set(list(map(int,fre)))\n",
    "uni = eng.symmetric_difference(fre)\n",
    "print(len(uni))"
   ]
  },
  {
   "cell_type": "markdown",
   "metadata": {},
   "source": [
    "# Set Mutations"
   ]
  },
  {
   "cell_type": "code",
   "execution_count": null,
   "metadata": {
    "collapsed": true
   },
   "outputs": [],
   "source": [
    "input()\n",
    "a = input().split(\" \")\n",
    "a = set(list(map(int,a)))\n",
    "n_com = int(input())\n",
    "i=0\n",
    "while i<n_com:\n",
    "    com = input().split(\" \")\n",
    "    s = input().split(\" \")\n",
    "    s = set(list(map(int,s)))  \n",
    "    if com[0] == \"intersection_update\":\n",
    "        a.intersection_update(s)\n",
    "    if com[0] == \"update\":\n",
    "        a.update(s)\n",
    "    if com[0] == \"symmetric_difference_update\":  \n",
    "        a.symmetric_difference_update(s)      \n",
    "    if com[0] == \"difference_update\":\n",
    "        a.difference_update(s)\n",
    "    i+=1\n",
    "print(sum(a))"
   ]
  },
  {
   "cell_type": "markdown",
   "metadata": {},
   "source": [
    "# The Captain's Room"
   ]
  },
  {
   "cell_type": "code",
   "execution_count": null,
   "metadata": {
    "collapsed": true
   },
   "outputs": [],
   "source": [
    "size= int(input())\n",
    "rooms = input().split(\" \")\n",
    "rooms = list(map(int, rooms))\n",
    "rooms.sort()\n",
    "num=rooms[0]\n",
    "c=0\n",
    "for i in range(len(rooms)):\n",
    "    if rooms[i]==num:\n",
    "        c+=1\n",
    "    if rooms[i]!=num:\n",
    "        num=rooms[i]\n",
    "        if c==1:\n",
    "            print(rooms[i-1])\n",
    "            break\n",
    "        c=1\n",
    "    if i==len(rooms)-1 and c==1:\n",
    "        print(rooms[i])"
   ]
  },
  {
   "cell_type": "markdown",
   "metadata": {},
   "source": [
    "# Check Subset"
   ]
  },
  {
   "cell_type": "code",
   "execution_count": null,
   "metadata": {
    "collapsed": true
   },
   "outputs": [],
   "source": [
    "num_tests=int(input())\n",
    "for i in range(num_tests):\n",
    "    size_a = int(input())\n",
    "    a = input().split(\" \")\n",
    "    a = set(list(map(int,a)))\n",
    "    size_b = int(input())\n",
    "    b = input().split(\" \")\n",
    "    b = set(list(map(int,b)))\n",
    "    print(a.issubset(b))"
   ]
  },
  {
   "cell_type": "markdown",
   "metadata": {},
   "source": [
    "# Check Strict Superset"
   ]
  },
  {
   "cell_type": "code",
   "execution_count": null,
   "metadata": {
    "collapsed": true
   },
   "outputs": [],
   "source": [
    "a = input().split(\" \")\n",
    "a = set(map(int,a))\n",
    "num_set= int(input())\n",
    "done=False\n",
    "for i in range(num_set):\n",
    "    b = input().split(\" \")\n",
    "    b = set(map(int,b))\n",
    "    if not (b.issubset(a) and len(b)<len(a)):\n",
    "        done=True\n",
    "        print(\"False\")\n",
    "        break\n",
    "if not done:\n",
    "    print(\"True\")"
   ]
  },
  {
   "cell_type": "markdown",
   "metadata": {},
   "source": [
    "# COLLECTIONS"
   ]
  },
  {
   "cell_type": "markdown",
   "metadata": {},
   "source": [
    "# collections.Counter()"
   ]
  },
  {
   "cell_type": "code",
   "execution_count": null,
   "metadata": {
    "collapsed": true
   },
   "outputs": [],
   "source": [
    "from collections import Counter\n",
    "\n",
    "size = int(input())\n",
    "shoes = input().split(\" \")\n",
    "shoes = list(map(int,shoes))\n",
    "cou = Counter(shoes)\n",
    "n_cust = int(input())\n",
    "tot = 0\n",
    "for i in range(n_cust):\n",
    "    purch = input().split(\" \")\n",
    "    purch = list(map(int,purch))\n",
    "    s = purch[0]\n",
    "    price = purch[1]\n",
    "    if s in cou.keys():\n",
    "        if cou[s] > 0:\n",
    "            tot+=price\n",
    "            cou[s]-=1\n",
    "print(tot)"
   ]
  },
  {
   "cell_type": "markdown",
   "metadata": {},
   "source": [
    "# DefaultDict Tutorial"
   ]
  },
  {
   "cell_type": "code",
   "execution_count": null,
   "metadata": {
    "collapsed": true
   },
   "outputs": [],
   "source": [
    "sizes = input().split(\" \")\n",
    "size_a = int(sizes[0])\n",
    "size_b = int(sizes[1])\n",
    "a=[]\n",
    "b=[]\n",
    "for i in range(size_a):\n",
    "    a.append(input())\n",
    "for j in range(size_b):\n",
    "    b.append(input())\n",
    "for el in b:\n",
    "    ind = [index+1 for index,x in enumerate(a) if x == el]\n",
    "    ind = list(map(str,ind))\n",
    "    if ind != []:\n",
    "        print(\" \".join(ind))\n",
    "    else:\n",
    "        print(-1)"
   ]
  },
  {
   "cell_type": "markdown",
   "metadata": {},
   "source": [
    "# Collections.namedtuple()"
   ]
  },
  {
   "cell_type": "code",
   "execution_count": null,
   "metadata": {
    "collapsed": true
   },
   "outputs": [],
   "source": [
    "from collections import namedtuple\n",
    "\n",
    "n = int(input())\n",
    "col = input().split()\n",
    "stud = namedtuple(\"stud\", \",\".join(col))\n",
    "somma= 0\n",
    "for i in range(n):\n",
    "    inp = input().split()\n",
    "    s = stud(inp[0],inp[1],inp[2],inp[3])\n",
    "    somma+=int(s.MARKS)\n",
    "print(\"{:.2f}\".format(somma/n))"
   ]
  },
  {
   "cell_type": "markdown",
   "metadata": {},
   "source": [
    "# Collections.OrderedDict()"
   ]
  },
  {
   "cell_type": "code",
   "execution_count": null,
   "metadata": {
    "collapsed": true
   },
   "outputs": [],
   "source": [
    "from collections import OrderedDict\n",
    "\n",
    "n = int(input())\n",
    "items = OrderedDict()\n",
    "for i in range(n):\n",
    "    inp = input().split(\" \")\n",
    "    if len(inp) == 3:\n",
    "        prod_name = inp[0]+\" \"+inp[1]\n",
    "        price = int(inp[2])\n",
    "    else:\n",
    "        prod_name = inp[0]\n",
    "        price = int(inp[1])\n",
    "    if prod_name in items.keys():\n",
    "        items[prod_name]+=price\n",
    "    else:\n",
    "        items[prod_name]=price\n",
    "for key, value in items.items(): \n",
    "    print(key, value) "
   ]
  },
  {
   "cell_type": "markdown",
   "metadata": {},
   "source": [
    "# Word Order"
   ]
  },
  {
   "cell_type": "code",
   "execution_count": null,
   "metadata": {
    "collapsed": true
   },
   "outputs": [],
   "source": [
    "from collections import Counter\n",
    "\n",
    "n = int(input())\n",
    "l=[]\n",
    "i=0\n",
    "while i < n:\n",
    "    l.append(input())\n",
    "    i+=1\n",
    "words = Counter(l)\n",
    "print(len(words))\n",
    "print(\" \".join(list(map(str,words.values()))))"
   ]
  },
  {
   "cell_type": "markdown",
   "metadata": {},
   "source": [
    "# Collections.deque()"
   ]
  },
  {
   "cell_type": "code",
   "execution_count": null,
   "metadata": {
    "collapsed": true
   },
   "outputs": [],
   "source": [
    "from collections import deque\n",
    "\n",
    "d = deque()\n",
    "N = int(input())\n",
    "for i in range(N):\n",
    "    string= input().split(\" \")\n",
    "    if string[0] == \"append\":\n",
    "        d.append(string[1])\n",
    "    if string[0] == \"appendleft\":\n",
    "        d.appendleft(string[1])\n",
    "    if string[0] == \"pop\":\n",
    "        d.pop()\n",
    "    if string[0] == \"popleft\":\n",
    "        d.popleft()\n",
    "print(\" \".join(d))"
   ]
  },
  {
   "cell_type": "markdown",
   "metadata": {},
   "source": [
    "# Company Logo"
   ]
  },
  {
   "cell_type": "code",
   "execution_count": null,
   "metadata": {
    "collapsed": true
   },
   "outputs": [],
   "source": [
    "if __name__ == '__main__':\n",
    "    s = input()\n",
    "    d = {}\n",
    "    for char in s:\n",
    "        if char in d:\n",
    "            d[char] += 1\n",
    "        else:\n",
    "            d[char] = 1\n",
    "    d = sorted (d.items())\n",
    "    d = sorted (d, key = lambda x: x[1], reverse = True)\n",
    "    for i in range (3):\n",
    "        print(d[i][0]+\" \"+str(d[i][1]))"
   ]
  },
  {
   "cell_type": "markdown",
   "metadata": {},
   "source": [
    "# Piling Up!"
   ]
  },
  {
   "cell_type": "code",
   "execution_count": null,
   "metadata": {
    "collapsed": true
   },
   "outputs": [],
   "source": [
    "n_test = int(input())\n",
    "for i in range(n_test):\n",
    "    size = int(input())\n",
    "    blocks = list(map(int,input().split(\" \")))\n",
    "    i=0\n",
    "    j=size-1\n",
    "    chosen = 10000\n",
    "    while i <= j:\n",
    "        if (chosen >= blocks[i] and chosen < blocks[j]) or (chosen >= blocks[j] and                     chosen < blocks[i]):\n",
    "            print(\"No\")\n",
    "            break\n",
    "        else:\n",
    "            if i == j:\n",
    "                print(\"Yes\")\n",
    "                break\n",
    "            if blocks[i] >= blocks[j]:\n",
    "                chosen = blocks[i]\n",
    "                i+=1\n",
    "            else:\n",
    "                chosen = blocks[j]\n",
    "                j-=1"
   ]
  },
  {
   "cell_type": "markdown",
   "metadata": {},
   "source": [
    "# DATE AND TIME"
   ]
  },
  {
   "cell_type": "markdown",
   "metadata": {},
   "source": [
    "# Calendar Module"
   ]
  },
  {
   "cell_type": "code",
   "execution_count": null,
   "metadata": {
    "collapsed": true
   },
   "outputs": [],
   "source": [
    "import calendar\n",
    "\n",
    "date = list(map(int,input().split(\" \")))\n",
    "day = calendar.day_name[calendar.weekday(date[2],date[0],date[1])]\n",
    "print (day.upper())"
   ]
  },
  {
   "cell_type": "markdown",
   "metadata": {},
   "source": [
    "# Time Delta"
   ]
  },
  {
   "cell_type": "code",
   "execution_count": null,
   "metadata": {
    "collapsed": true
   },
   "outputs": [],
   "source": [
    "import datetime as dt\n",
    "\n",
    "def time_delta(t1, t2):\n",
    "    t1=dt.datetime.strptime(t1, \"%a %d %b %Y %H:%M:%S %z\")\n",
    "    t2=dt.datetime.strptime(t2, \"%a %d %b %Y %H:%M:%S %z\")\n",
    "    diff=abs(t1-t2)\n",
    "    return str(int(diff.total_seconds()))"
   ]
  },
  {
   "cell_type": "markdown",
   "metadata": {},
   "source": [
    "# EXCEPTIONS"
   ]
  },
  {
   "cell_type": "markdown",
   "metadata": {},
   "source": [
    "# Exceptions"
   ]
  },
  {
   "cell_type": "code",
   "execution_count": null,
   "metadata": {
    "collapsed": true
   },
   "outputs": [],
   "source": [
    "n = int(input())\n",
    "for i in range (n):\n",
    "    num = input().split(\" \")\n",
    "    try:\n",
    "        print(int(num[0])//int(num[1]))\n",
    "    except ValueError as ve:\n",
    "        print(\"Error Code:\",ve)\n",
    "    except ZeroDivisionError as ze:\n",
    "        print(\"Error Code:\",ze)"
   ]
  },
  {
   "cell_type": "markdown",
   "metadata": {},
   "source": [
    "# BUILT-INS"
   ]
  },
  {
   "cell_type": "markdown",
   "metadata": {},
   "source": [
    "# Zipped!"
   ]
  },
  {
   "cell_type": "code",
   "execution_count": null,
   "metadata": {
    "collapsed": true
   },
   "outputs": [],
   "source": [
    "import statistics\n",
    "\n",
    "inp = list(map(int,input().split(\" \")))\n",
    "n_stud = inp[0]\n",
    "n_subj = inp[1]\n",
    "sub = []\n",
    "for i in range (n_subj):\n",
    "    grades = list(map(float,input().split(\" \")))\n",
    "    sub.append(grades)\n",
    "stud = zip(*sub)\n",
    "for el in stud:\n",
    "    print(statistics.mean(el))"
   ]
  },
  {
   "cell_type": "markdown",
   "metadata": {},
   "source": [
    "# Athlete Sort"
   ]
  },
  {
   "cell_type": "code",
   "execution_count": null,
   "metadata": {
    "collapsed": true
   },
   "outputs": [],
   "source": [
    "if __name__ == '__main__':\n",
    "    nm = input().split()\n",
    "    n = int(nm[0])\n",
    "    m = int(nm[1])\n",
    "    arr = []\n",
    "    for _ in range(n):\n",
    "        arr.append(list(map(int, input().rstrip().split())))\n",
    "    k = int(input())\n",
    "    arr= sorted(arr, key = lambda x: x[k])\n",
    "    for el in arr:\n",
    "        print(\" \".join(list(map(str,el))))"
   ]
  },
  {
   "cell_type": "markdown",
   "metadata": {},
   "source": [
    "# ginortS"
   ]
  },
  {
   "cell_type": "code",
   "execution_count": null,
   "metadata": {
    "collapsed": true
   },
   "outputs": [],
   "source": [
    "string = input()\n",
    "sort=sorted(string, key=lambda x: (x.isdigit(),x in [\"0\",\"2\",\"4\",\"6\",\"8\"],x.isupper(),x))\n",
    "print((\"\".join(sort)))"
   ]
  },
  {
   "cell_type": "markdown",
   "metadata": {},
   "source": [
    "# PYTHON FUNCTIONALS"
   ]
  },
  {
   "cell_type": "markdown",
   "metadata": {},
   "source": [
    "# Map and Lambda Function"
   ]
  },
  {
   "cell_type": "code",
   "execution_count": null,
   "metadata": {
    "collapsed": true
   },
   "outputs": [],
   "source": [
    "cube = lambda x: x*x*x # complete the lambda function \n",
    "\n",
    "def fibonacci(n):\n",
    "    if n==1:\n",
    "        l=[0]\n",
    "    elif n==0:\n",
    "        l=[]\n",
    "    else:\n",
    "        l=[0,1]\n",
    "        for i in range(2,n):\n",
    "            c=l[i-1]+l[i-2]\n",
    "            l.append(c)\n",
    "    return l"
   ]
  },
  {
   "cell_type": "markdown",
   "metadata": {},
   "source": [
    "# REGEX AND PARSING CHALLENGES"
   ]
  },
  {
   "cell_type": "markdown",
   "metadata": {},
   "source": [
    "# Detect Floating Point Number"
   ]
  },
  {
   "cell_type": "code",
   "execution_count": null,
   "metadata": {
    "collapsed": true
   },
   "outputs": [],
   "source": [
    "import re\n",
    "\n",
    "n=int(input())\n",
    "for i in range(n):\n",
    "    s= input()\n",
    "    ris = re.fullmatch(r'[+\\-.]?\\d*\\.{1}\\d+',s)\n",
    "    if ris:\n",
    "        print(True)\n",
    "    else:\n",
    "        print(False)"
   ]
  },
  {
   "cell_type": "markdown",
   "metadata": {},
   "source": [
    "# Re.split() "
   ]
  },
  {
   "cell_type": "code",
   "execution_count": null,
   "metadata": {
    "collapsed": true
   },
   "outputs": [],
   "source": [
    "regex_pattern = r\"[,.]\""
   ]
  },
  {
   "cell_type": "markdown",
   "metadata": {},
   "source": [
    "# Group(), Groups() & Groupdict()"
   ]
  },
  {
   "cell_type": "code",
   "execution_count": null,
   "metadata": {
    "collapsed": true
   },
   "outputs": [],
   "source": [
    "import re\n",
    "\n",
    "inp= input()\n",
    "m = re.search(r\"([0-9a-zA-Z])\\1+\",inp)\n",
    "if m:\n",
    "    print(m.group(1))\n",
    "else:\n",
    "    print(-1)"
   ]
  },
  {
   "cell_type": "markdown",
   "metadata": {},
   "source": [
    "# Re.findall() & Re.finditer()"
   ]
  },
  {
   "cell_type": "code",
   "execution_count": null,
   "metadata": {
    "collapsed": true
   },
   "outputs": [],
   "source": [
    "import re\n",
    "\n",
    "string = input()\n",
    "res=re.findall(r'[b-df-hj-np-tv-z]([AEIOUaeiou]{2,})(?=[b-df-hj-np-tv-z])',string)\n",
    "for el in res:\n",
    "    print(el)\n",
    "if len(res)==0:\n",
    "    print(-1)"
   ]
  },
  {
   "cell_type": "markdown",
   "metadata": {},
   "source": [
    "# Re.start() & Re.end()"
   ]
  },
  {
   "cell_type": "code",
   "execution_count": null,
   "metadata": {
    "collapsed": true
   },
   "outputs": [],
   "source": [
    "import re\n",
    "\n",
    "s=input()\n",
    "k=input()\n",
    "k=re.compile(k)\n",
    "ris= re.search(k,s)\n",
    "pos=-1\n",
    "if ris:\n",
    "    while ris:\n",
    "        s=s[ris.start()+1:]\n",
    "        pos+=ris.start()+1\n",
    "        print((pos,ris.end()-1+pos-ris.start()))\n",
    "        ris= re.search(k,s)\n",
    "else:\n",
    "    print((-1,-1))"
   ]
  },
  {
   "cell_type": "markdown",
   "metadata": {},
   "source": [
    "# Regex Substitution"
   ]
  },
  {
   "cell_type": "code",
   "execution_count": null,
   "metadata": {
    "collapsed": true
   },
   "outputs": [],
   "source": [
    "import re\n",
    "\n",
    "n = int(input())\n",
    "s=\"\"\n",
    "for i in range (n):\n",
    "    s+=input()+\"\\n\"\n",
    "s= re.sub(r\"(?<= )(&&)(?= )\", \"and\", s) \n",
    "print(re.sub(\"(?<= )(\\|\\|)(?= )\", \"or\", s))"
   ]
  },
  {
   "cell_type": "markdown",
   "metadata": {},
   "source": [
    "# Validating Roman Numerals"
   ]
  },
  {
   "cell_type": "code",
   "execution_count": null,
   "metadata": {
    "collapsed": true
   },
   "outputs": [],
   "source": [
    "regex_pattern = r\"(M{0,3}(D?C{0,3}|CD|CM)(L?X{0,3}|XL|XC)(V?I{0,3}|IX|IV))$\""
   ]
  },
  {
   "cell_type": "markdown",
   "metadata": {},
   "source": [
    "# Validating phone numbers"
   ]
  },
  {
   "cell_type": "code",
   "execution_count": null,
   "metadata": {
    "collapsed": true
   },
   "outputs": [],
   "source": [
    "import re\n",
    "\n",
    "n=int(input())\n",
    "for i in range(n):\n",
    "    num=input()\n",
    "    ris=re.match(r\"[789]\\d{9}$\", num)\n",
    "    if ris:\n",
    "        print(\"YES\")\n",
    "    else:\n",
    "        print(\"NO\")"
   ]
  },
  {
   "cell_type": "markdown",
   "metadata": {},
   "source": [
    "# Validating and Parsing Email Addresses "
   ]
  },
  {
   "cell_type": "code",
   "execution_count": null,
   "metadata": {
    "collapsed": true
   },
   "outputs": [],
   "source": [
    "import email.utils as email\n",
    "import re\n",
    "\n",
    "n=int(input())\n",
    "for i in range(n):\n",
    "    s=input().split(\" \")\n",
    "    name=s[0]\n",
    "    addr=s[1][1:-1]\n",
    "    ris= re.match(r\"([A-Za-z]{1}(\\w|[\\-\\.])+)@([A-Za-z]+)\\.[A-Za-z]{1,3}$\", addr)\n",
    "    if ris:\n",
    "        print(email.formataddr((name,addr)))"
   ]
  },
  {
   "cell_type": "markdown",
   "metadata": {},
   "source": [
    "# Hex Color Code"
   ]
  },
  {
   "cell_type": "code",
   "execution_count": null,
   "metadata": {
    "collapsed": true
   },
   "outputs": [],
   "source": [
    "import re\n",
    "\n",
    "n_lin=int(input())\n",
    "color_sect=False\n",
    "for i in range(n_lin):\n",
    "    l=input()\n",
    "    if \"}\" in l:\n",
    "        color_sect=False\n",
    "    if color_sect:\n",
    "        ris=re.findall(r\"#[0-9A-Fa-f]{6}|#[0-9A-Fa-f]{3}\",l)\n",
    "        if ris:\n",
    "            for el in ris:\n",
    "                print(el)\n",
    "    if \"{\" in l:\n",
    "        color_sect=True"
   ]
  },
  {
   "cell_type": "markdown",
   "metadata": {},
   "source": [
    "# HTML Parser - Part 1"
   ]
  },
  {
   "cell_type": "code",
   "execution_count": null,
   "metadata": {
    "collapsed": true
   },
   "outputs": [],
   "source": [
    "from html.parser import HTMLParser\n",
    "\n",
    "n=int(input())\n",
    "html=\"\"\n",
    "for i in range(n):\n",
    "    html+=input()+\"\\n\"\n",
    "\n",
    "class MyHTMLParser(HTMLParser):\n",
    "    def handle_starttag(self, tag, attrs):\n",
    "        print (\"Start :\", tag)\n",
    "        for el in attrs:\n",
    "            print(\"->\",el[0],\">\",el[1])\n",
    "    def handle_endtag(self, tag):\n",
    "        print (\"End   :\", tag)\n",
    "    def handle_startendtag(self, tag, attrs):\n",
    "        print (\"Empty :\", tag)\n",
    "        for el in attrs:\n",
    "            print(\"->\",el[0],\">\",el[1])\n",
    "\n",
    "# instantiate the parser and fed it some HTML\n",
    "parser = MyHTMLParser()\n",
    "parser.feed(html)"
   ]
  },
  {
   "cell_type": "markdown",
   "metadata": {},
   "source": [
    "# HTML Parser - Part 2"
   ]
  },
  {
   "cell_type": "code",
   "execution_count": null,
   "metadata": {
    "collapsed": true
   },
   "outputs": [],
   "source": [
    "from html.parser import HTMLParser\n",
    "\n",
    "class MyHTMLParser(HTMLParser):\n",
    "    def handle_comment(self, data):\n",
    "        if \"\\n\" in data:\n",
    "            print(\">>> Multi-line Comment\")\n",
    "            print(data)\n",
    "        else:\n",
    "            print(\">>> Single-line Comment\")\n",
    "            print(data)\n",
    "    def handle_data(self, data):\n",
    "        if len(data)>1:\n",
    "            print(\">>> Data\")\n",
    "            print(data) \n",
    "\n",
    "html = \"\"       \n",
    "for i in range(int(input())):\n",
    "    html += input().rstrip()\n",
    "    html += '\\n'\n",
    "    \n",
    "parser = MyHTMLParser()\n",
    "parser.feed(html)\n",
    "parser.close()"
   ]
  },
  {
   "cell_type": "markdown",
   "metadata": {},
   "source": [
    "# Detect HTML Tags, Attributes and Attribute Values"
   ]
  },
  {
   "cell_type": "code",
   "execution_count": null,
   "metadata": {
    "collapsed": true
   },
   "outputs": [],
   "source": [
    "from html.parser import HTMLParser\n",
    "\n",
    "n=int(input())\n",
    "html=\"\"\n",
    "for i in range(n):\n",
    "    html+=input()+\"\\n\"\n",
    "\n",
    "class MyHTMLParser(HTMLParser):\n",
    "    def handle_starttag(self, tag, attrs):\n",
    "        print (tag)\n",
    "        if len(attrs)>0:\n",
    "            for el in attrs:\n",
    "                print(\"->\",el[0],\">\",el[1])\n",
    "    def handle_startendtag(self, tag, attrs):\n",
    "        print (tag)\n",
    "        if len(attrs)>0:\n",
    "            for el in attrs:\n",
    "                print(\"->\",el[0],\">\",el[1])\n",
    "\n",
    "# instantiate the parser and fed it some HTML\n",
    "parser = MyHTMLParser()\n",
    "parser.feed(html)"
   ]
  },
  {
   "cell_type": "markdown",
   "metadata": {},
   "source": [
    "# Validating UID"
   ]
  },
  {
   "cell_type": "code",
   "execution_count": null,
   "metadata": {
    "collapsed": true
   },
   "outputs": [],
   "source": [
    "import re\n",
    "\n",
    "n=int(input())\n",
    "for i in range(n):\n",
    "    uid=input()\n",
    "    correct=True\n",
    "    if not re.search(r\".*[A-Z].*[A-Z].*\",uid):\n",
    "        correct=False\n",
    "    elif not re.search(r\"\\d.*\\d.*\\d.*\",uid):\n",
    "        correct=False\n",
    "    elif not re.search(r\"^([A-Za-z0-9]){10}$\",uid):\n",
    "        correct=False\n",
    "    letters=set(uid)\n",
    "    if len(letters)!=len(uid):\n",
    "        correct=False\n",
    "    if correct:\n",
    "        print(\"Valid\")\n",
    "    else:\n",
    "        print(\"Invalid\")"
   ]
  },
  {
   "cell_type": "markdown",
   "metadata": {},
   "source": [
    "# Validating Credit Card Numbers"
   ]
  },
  {
   "cell_type": "code",
   "execution_count": null,
   "metadata": {
    "collapsed": true
   },
   "outputs": [],
   "source": [
    "import re\n",
    "\n",
    "n=int(input())\n",
    "for i in range(n):\n",
    "    card=input()\n",
    "    correct=True\n",
    "    if not re.search(r\"^[456]\\d{3}-?\\d{4}-?\\d{4}-?\\d{4}$\",card):\n",
    "        correct=False\n",
    "    #delete the \"-\" values\n",
    "    card=card.replace(\"-\",\"\")\n",
    "    if re.search(r\"(\\d)\\1{3,}\",card):\n",
    "        correct=False\n",
    "    if correct:\n",
    "        print(\"Valid\")\n",
    "    else:\n",
    "        print(\"Invalid\")"
   ]
  },
  {
   "cell_type": "markdown",
   "metadata": {},
   "source": [
    "# Validating Postal Codes"
   ]
  },
  {
   "cell_type": "code",
   "execution_count": null,
   "metadata": {
    "collapsed": true
   },
   "outputs": [],
   "source": [
    "regex_integer_in_range = r\"^[1-9]([0-9]){5}$\"\n",
    "regex_alternating_repetitive_digit_pair = r\"(\\d)(?=\\d\\1)\""
   ]
  },
  {
   "cell_type": "markdown",
   "metadata": {},
   "source": [
    "# Matrix Script"
   ]
  },
  {
   "cell_type": "code",
   "execution_count": null,
   "metadata": {
    "collapsed": true
   },
   "outputs": [],
   "source": [
    "import math\n",
    "import os\n",
    "import random\n",
    "import re\n",
    "import sys\n",
    "\n",
    "first_multiple_input = input().rstrip().split()\n",
    "n = int(first_multiple_input[0])\n",
    "m = int(first_multiple_input[1])\n",
    "matrix = []\n",
    "for _ in range(n):\n",
    "    matrix_item = input()\n",
    "    matrix.append(matrix_item)\n",
    "s=\"\"\n",
    "for i in range (len(matrix[0])):\n",
    "    for j in range(len(matrix)):\n",
    "        s+=matrix[j][i]\n",
    "print(re.sub(r\"(?<=[a-zA-Z0-9])[^a-zA-Z0-9]+(?=[a-zA-Z0-9])\",\" \",s))"
   ]
  },
  {
   "cell_type": "markdown",
   "metadata": {},
   "source": [
    "# XML"
   ]
  },
  {
   "cell_type": "markdown",
   "metadata": {},
   "source": [
    "# XML 1 - Find the Score"
   ]
  },
  {
   "cell_type": "code",
   "execution_count": null,
   "metadata": {
    "collapsed": true
   },
   "outputs": [],
   "source": [
    "def get_attr_number(node):\n",
    "    score=0\n",
    "    score+=len(node.attrib)\n",
    "    for child in node:\n",
    "        score+=get_attr_number(child)\n",
    "    return score"
   ]
  },
  {
   "cell_type": "markdown",
   "metadata": {},
   "source": [
    "# XML2 - Find the Maximum Depth"
   ]
  },
  {
   "cell_type": "code",
   "execution_count": null,
   "metadata": {
    "collapsed": true
   },
   "outputs": [],
   "source": [
    "maxdepth = 0\n",
    "def depth(elem, level):\n",
    "    global maxdepth\n",
    "    if level>maxdepth-1:\n",
    "        maxdepth+=1\n",
    "    for child in elem:\n",
    "        depth(child,level+1)\n",
    "    return maxdepth"
   ]
  },
  {
   "cell_type": "markdown",
   "metadata": {},
   "source": [
    "# CLOSURES AND DECORATIONS"
   ]
  },
  {
   "cell_type": "markdown",
   "metadata": {},
   "source": [
    "# Standardize Mobile Number Using Decorators"
   ]
  },
  {
   "cell_type": "code",
   "execution_count": null,
   "metadata": {
    "collapsed": true
   },
   "outputs": [],
   "source": [
    "def wrapper(f):\n",
    "    def fun(l):\n",
    "        for i in range(len(l)):\n",
    "            el=l[i]\n",
    "            if len(el) == 10:\n",
    "                l[i] = \"+91 \"+el[:5]+\" \"+el[5:]\n",
    "            elif el[0]== \"+\":\n",
    "                l[i] = el[:3]+\" \"+el[3:8]+\" \"+el[8:]\n",
    "            elif el[0] == \"9\":\n",
    "                l[i] = \"+91 \"+el[2:7]+\" \"+el[7:]\n",
    "            else:\n",
    "                l[i] = \"+91 \"+el[1:6]+\" \"+el[6:]\n",
    "        f(l)\n",
    "    return fun"
   ]
  },
  {
   "cell_type": "markdown",
   "metadata": {},
   "source": [
    "# Decorators 2 - Name Directory"
   ]
  },
  {
   "cell_type": "code",
   "execution_count": null,
   "metadata": {
    "collapsed": true
   },
   "outputs": [],
   "source": [
    "def person_lister(f):\n",
    "    def inner(people):\n",
    "        people.sort(key= lambda x:int(x[2]))\n",
    "        return map(f,people)\n",
    "    return inner"
   ]
  },
  {
   "cell_type": "markdown",
   "metadata": {},
   "source": [
    "# NUMPY"
   ]
  },
  {
   "cell_type": "markdown",
   "metadata": {},
   "source": [
    "# Arrays"
   ]
  },
  {
   "cell_type": "code",
   "execution_count": null,
   "metadata": {
    "collapsed": true
   },
   "outputs": [],
   "source": [
    "def arrays(arr):\n",
    "    arr= numpy.array(arr,float)\n",
    "    arr=numpy.flip(arr)\n",
    "    return arr"
   ]
  },
  {
   "cell_type": "markdown",
   "metadata": {},
   "source": [
    "# Shape and Reshape"
   ]
  },
  {
   "cell_type": "code",
   "execution_count": null,
   "metadata": {
    "collapsed": true
   },
   "outputs": [],
   "source": [
    "import numpy\n",
    "\n",
    "arr = numpy.array(list(map(int,input().split(\" \"))))\n",
    "print (numpy.reshape(arr,(3,3)))"
   ]
  },
  {
   "cell_type": "markdown",
   "metadata": {},
   "source": [
    "# Transpose and Flatten"
   ]
  },
  {
   "cell_type": "code",
   "execution_count": null,
   "metadata": {
    "collapsed": true
   },
   "outputs": [],
   "source": [
    "import numpy\n",
    "\n",
    "nm = list(map(int,input().split(\" \")))\n",
    "rows = nm[0]\n",
    "cols = nm[1]\n",
    "matr=[]\n",
    "for i in range(rows):\n",
    "    row = list(map(int,input().split(\" \")))\n",
    "    matr.append(row)\n",
    "arr= numpy.array(matr)\n",
    "print(numpy.transpose(arr))\n",
    "print(arr.flatten())"
   ]
  },
  {
   "cell_type": "markdown",
   "metadata": {},
   "source": [
    "# Concatenate"
   ]
  },
  {
   "cell_type": "code",
   "execution_count": null,
   "metadata": {
    "collapsed": true
   },
   "outputs": [],
   "source": [
    "import numpy\n",
    "\n",
    "nmp=list(map(int,input().split(\" \")))\n",
    "n = nmp[0]\n",
    "m = nmp[1]\n",
    "p = nmp[2]\n",
    "arr_a=[]\n",
    "for i in range(n):\n",
    "    row=list(map(int,input().split(\" \")))\n",
    "    arr_a.append(row)\n",
    "arr_b=[]\n",
    "for i in range(m):\n",
    "    row=list(map(int,input().split(\" \")))\n",
    "    arr_b.append(row)\n",
    "arr_a=numpy.array(arr_a)\n",
    "arr_b=numpy.array(arr_b)\n",
    "print(numpy.concatenate((arr_a,arr_b), axis = 0))"
   ]
  },
  {
   "cell_type": "markdown",
   "metadata": {},
   "source": [
    "# Zeros and Ones"
   ]
  },
  {
   "cell_type": "code",
   "execution_count": null,
   "metadata": {
    "collapsed": true
   },
   "outputs": [],
   "source": [
    "import numpy\n",
    "\n",
    "shapes=list(map(int,input().split(\" \")))\n",
    "shapes=tuple(shapes)\n",
    "\n",
    "print(numpy.zeros(shapes, dtype = numpy.int))\n",
    "print(numpy.ones(shapes, dtype = numpy.int))"
   ]
  },
  {
   "cell_type": "markdown",
   "metadata": {},
   "source": [
    "# Eye and Identity"
   ]
  },
  {
   "cell_type": "code",
   "execution_count": null,
   "metadata": {
    "collapsed": true
   },
   "outputs": [],
   "source": [
    "import numpy\n",
    "numpy.set_printoptions(legacy='1.13')\n",
    "\n",
    "nm = list(map(int,input().split(\" \")))\n",
    "n = nm[0]\n",
    "m = nm[1]\n",
    "\n",
    "print (numpy.eye(n, m, k = 0))"
   ]
  },
  {
   "cell_type": "markdown",
   "metadata": {},
   "source": [
    "# Array Mathematics"
   ]
  },
  {
   "cell_type": "code",
   "execution_count": null,
   "metadata": {
    "collapsed": true
   },
   "outputs": [],
   "source": [
    "import numpy\n",
    "\n",
    "nm = list(map(int,input().split(\" \")))\n",
    "n = nm[0]\n",
    "m = nm[1]\n",
    "a=[]\n",
    "for i in range(n):\n",
    "    row= list(map(int,input().split(\" \")))\n",
    "    a.append(row)\n",
    "b=[]\n",
    "for i in range(n):\n",
    "    row= list(map(int,input().split(\" \")))\n",
    "    b.append(row)\n",
    "a = numpy.array(a)\n",
    "b = numpy.array(b)\n",
    "print(a+b)\n",
    "print(a-b)\n",
    "print(a*b)\n",
    "print(a//b)\n",
    "print(a%b)\n",
    "print(a**b)"
   ]
  },
  {
   "cell_type": "markdown",
   "metadata": {},
   "source": [
    "# Floor, Ceil and Rint"
   ]
  },
  {
   "cell_type": "code",
   "execution_count": null,
   "metadata": {
    "collapsed": true
   },
   "outputs": [],
   "source": [
    "import numpy\n",
    "numpy.set_printoptions(legacy='1.13')\n",
    "\n",
    "arr= list(map(float,input().split(\" \")))\n",
    "arr = numpy.array(arr)\n",
    "print(numpy.floor(arr)) \n",
    "print(numpy.ceil(arr)) \n",
    "print(numpy.rint(arr)) "
   ]
  },
  {
   "cell_type": "markdown",
   "metadata": {},
   "source": [
    "# Sum and Prod"
   ]
  },
  {
   "cell_type": "code",
   "execution_count": null,
   "metadata": {
    "collapsed": true
   },
   "outputs": [],
   "source": [
    "import numpy\n",
    "nm = list(map(int,input().split(\" \")))\n",
    "n = nm[0]\n",
    "m = nm[1]\n",
    "a=[]\n",
    "for i in range(n):\n",
    "    row= list(map(int,input().split(\" \")))\n",
    "    a.append(row)\n",
    "a = numpy.array(a)\n",
    "s = numpy.sum(a, axis=0)\n",
    "print(numpy.prod(s,axis=0))"
   ]
  },
  {
   "cell_type": "markdown",
   "metadata": {},
   "source": [
    "# Min and Max"
   ]
  },
  {
   "cell_type": "code",
   "execution_count": null,
   "metadata": {
    "collapsed": true
   },
   "outputs": [],
   "source": [
    "import numpy\n",
    "\n",
    "nm = list(map(int,input().split(\" \")))\n",
    "n = nm[0]\n",
    "m = nm[1]\n",
    "a=[]\n",
    "for i in range(n):\n",
    "    row= list(map(int,input().split(\" \")))\n",
    "    a.append(row)\n",
    "a = numpy.array(a)\n",
    "minim= numpy.min(a, axis = 1)\n",
    "print(numpy.max(minim))"
   ]
  },
  {
   "cell_type": "markdown",
   "metadata": {},
   "source": [
    "# Mean, Var, and Std"
   ]
  },
  {
   "cell_type": "code",
   "execution_count": null,
   "metadata": {
    "collapsed": true
   },
   "outputs": [],
   "source": [
    "import numpy\n",
    "\n",
    "nm = list(map(int,input().split(\" \")))\n",
    "n = nm[0]\n",
    "m = nm[1]\n",
    "a=[]\n",
    "for i in range(n):\n",
    "    row= list(map(int,input().split(\" \")))\n",
    "    a.append(row)\n",
    "a = numpy.array(a)\n",
    "print (numpy.mean(a, axis = 1)) \n",
    "print (numpy.var(a, axis = 0))\n",
    "print (round(numpy.std(a),11))"
   ]
  },
  {
   "cell_type": "markdown",
   "metadata": {},
   "source": [
    "# Dot and Cross"
   ]
  },
  {
   "cell_type": "code",
   "execution_count": null,
   "metadata": {
    "collapsed": true
   },
   "outputs": [],
   "source": [
    "import numpy\n",
    "\n",
    "n = int(input())\n",
    "a=[]\n",
    "for i in range(n):\n",
    "    row= list(map(int,input().split(\" \")))\n",
    "    a.append(row)\n",
    "b=[]\n",
    "for i in range(n):\n",
    "    row= list(map(int,input().split(\" \")))\n",
    "    b.append(row)\n",
    "a = numpy.array(a)\n",
    "b = numpy.array(b)\n",
    "print(numpy.dot(a,b))"
   ]
  },
  {
   "cell_type": "markdown",
   "metadata": {},
   "source": [
    "# Inner and Outer"
   ]
  },
  {
   "cell_type": "code",
   "execution_count": null,
   "metadata": {
    "collapsed": true
   },
   "outputs": [],
   "source": [
    "import numpy\n",
    "\n",
    "a = numpy.array(list(map(int,input().split(\" \"))))\n",
    "b = numpy.array(list(map(int,input().split(\" \"))))\n",
    "print(numpy.inner(a,b))\n",
    "print(numpy.outer(a,b))"
   ]
  },
  {
   "cell_type": "markdown",
   "metadata": {},
   "source": [
    "# Polynomials"
   ]
  },
  {
   "cell_type": "code",
   "execution_count": null,
   "metadata": {
    "collapsed": true
   },
   "outputs": [],
   "source": [
    "import numpy\n",
    "\n",
    "pol= list(map(float,input().split(\" \")))\n",
    "x = int(input())\n",
    "print(numpy.polyval(pol,x))"
   ]
  },
  {
   "cell_type": "markdown",
   "metadata": {},
   "source": [
    "# Linear Algebra"
   ]
  },
  {
   "cell_type": "code",
   "execution_count": null,
   "metadata": {
    "collapsed": true
   },
   "outputs": [],
   "source": [
    "import numpy\n",
    "\n",
    "n = int(input())\n",
    "matr=[]\n",
    "for i in range (n):\n",
    "    row = list(map(float,input().split(\" \")))\n",
    "    matr.append(row)\n",
    "matr = numpy.array(matr)\n",
    "print(round(numpy.linalg.det(matr),2))"
   ]
  },
  {
   "cell_type": "markdown",
   "metadata": {},
   "source": [
    "# PROBLEM 2"
   ]
  },
  {
   "cell_type": "markdown",
   "metadata": {},
   "source": [
    "# Birthday Cake Candles"
   ]
  },
  {
   "cell_type": "code",
   "execution_count": null,
   "metadata": {
    "collapsed": true
   },
   "outputs": [],
   "source": [
    "def birthdayCakeCandles(candles):\n",
    "    m = max(candles)\n",
    "    return candles.count(m)"
   ]
  },
  {
   "cell_type": "markdown",
   "metadata": {},
   "source": [
    "# Number Line Jumps"
   ]
  },
  {
   "cell_type": "code",
   "execution_count": null,
   "metadata": {
    "collapsed": true
   },
   "outputs": [],
   "source": [
    "def kangaroo(x1, v1, x2, v2):\n",
    "    pos1=x1+v1\n",
    "    pos2=x2+v2\n",
    "    #if one kangaroo is already forward and he jumps more or jumps same,\n",
    "    #we can already say that they won't ever be at the same locations\n",
    "    if (v1==v2) or (x1<x2 and v1<v2) or (x2<x1 and v2<v1):\n",
    "        return \"NO\"\n",
    "    elif abs(x1-x2)%abs(v1-v2) != 0:\n",
    "        return \"NO\"\n",
    "    else:\n",
    "        return \"YES\""
   ]
  },
  {
   "cell_type": "markdown",
   "metadata": {},
   "source": [
    "# Viral Advertising"
   ]
  },
  {
   "cell_type": "code",
   "execution_count": null,
   "metadata": {
    "collapsed": true
   },
   "outputs": [],
   "source": [
    "import math\n",
    "\n",
    "def viralAdvertising(n):\n",
    "    shared=5\n",
    "    like=2\n",
    "    for i in range(n-1):\n",
    "        shared = math.floor(shared/2)*3\n",
    "        like += math.floor(shared/2)\n",
    "    return like"
   ]
  },
  {
   "cell_type": "markdown",
   "metadata": {},
   "source": [
    "# Recursive Digit Sum"
   ]
  },
  {
   "cell_type": "code",
   "execution_count": null,
   "metadata": {
    "collapsed": true
   },
   "outputs": [],
   "source": [
    "def rec_superDigit(p):\n",
    "    if len(p)==1:\n",
    "        p = int(p)\n",
    "        return p\n",
    "    else:\n",
    "        somma=0\n",
    "        for dig in p:\n",
    "            somma+=int(dig)\n",
    "        return rec_superDigit(str(somma))\n",
    "            \n",
    "def superDigit(n, k):\n",
    "    # Write your code here\n",
    "    somma=0\n",
    "    for dig in n:\n",
    "        somma+=int(dig)\n",
    "    p=somma*k\n",
    "    return rec_superDigit(str(p))"
   ]
  },
  {
   "cell_type": "markdown",
   "metadata": {},
   "source": [
    "# Insertion Sort - Part 1"
   ]
  },
  {
   "cell_type": "code",
   "execution_count": null,
   "metadata": {
    "collapsed": true
   },
   "outputs": [],
   "source": [
    "def insertionSort1(n, arr):\n",
    "    el = arr[n-1]\n",
    "    i=n-1\n",
    "    while el<=arr[i] and i>=0 :\n",
    "        if el<=arr[i-1] and i!=0:\n",
    "            arr[i]=arr[i-1]\n",
    "        elif el>arr[i-1] or i==0:\n",
    "            arr[i]=el\n",
    "        print(*arr)\n",
    "        i-=1"
   ]
  },
  {
   "cell_type": "markdown",
   "metadata": {},
   "source": [
    "# Insertion Sort - Part 2"
   ]
  },
  {
   "cell_type": "code",
   "execution_count": null,
   "metadata": {
    "collapsed": true
   },
   "outputs": [],
   "source": [
    "def insertionSort2(n, arr):\n",
    "    # Write your code here\n",
    "    for i in range(1, n):\n",
    "        el=arr[i]\n",
    "        j=i-1\n",
    "        while j>=0 and el<arr[j]:\n",
    "            arr[j+1]=arr[j]\n",
    "            j-=1\n",
    "        arr[j+1]=el\n",
    "        print(*arr)"
   ]
  }
 ],
 "metadata": {
  "kernelspec": {
   "display_name": "Python 3",
   "language": "python",
   "name": "python3"
  }
 },
 "nbformat": 4,
 "nbformat_minor": 4
}
